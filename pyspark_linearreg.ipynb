{
  "nbformat": 4,
  "nbformat_minor": 0,
  "metadata": {
    "colab": {
      "provenance": []
    },
    "kernelspec": {
      "name": "python3",
      "display_name": "Python 3"
    },
    "language_info": {
      "name": "python"
    }
  },
  "cells": [
    {
      "cell_type": "code",
      "execution_count": 1,
      "metadata": {
        "colab": {
          "base_uri": "https://localhost:8080/"
        },
        "id": "saXQRsU_8OTJ",
        "outputId": "cb84bb38-6420-44c9-9547-dfa3eb12fe82"
      },
      "outputs": [
        {
          "output_type": "stream",
          "name": "stdout",
          "text": [
            "Collecting pyspark\n",
            "  Downloading pyspark-3.5.0.tar.gz (316.9 MB)\n",
            "\u001b[2K     \u001b[90m━━━━━━━━━━━━━━━━━━━━━━━━━━━━━━━━━━━━━━━━\u001b[0m \u001b[32m316.9/316.9 MB\u001b[0m \u001b[31m3.9 MB/s\u001b[0m eta \u001b[36m0:00:00\u001b[0m\n",
            "\u001b[?25h  Preparing metadata (setup.py) ... \u001b[?25l\u001b[?25hdone\n",
            "Requirement already satisfied: py4j==0.10.9.7 in /usr/local/lib/python3.10/dist-packages (from pyspark) (0.10.9.7)\n",
            "Building wheels for collected packages: pyspark\n",
            "  Building wheel for pyspark (setup.py) ... \u001b[?25l\u001b[?25hdone\n",
            "  Created wheel for pyspark: filename=pyspark-3.5.0-py2.py3-none-any.whl size=317425344 sha256=229a242877c6706c8d7374fe0e41dcae66343554033ac55232da7f2b2bca8d0d\n",
            "  Stored in directory: /root/.cache/pip/wheels/41/4e/10/c2cf2467f71c678cfc8a6b9ac9241e5e44a01940da8fbb17fc\n",
            "Successfully built pyspark\n",
            "Installing collected packages: pyspark\n",
            "Successfully installed pyspark-3.5.0\n"
          ]
        }
      ],
      "source": [
        "!pip install pyspark"
      ]
    },
    {
      "cell_type": "code",
      "source": [
        "from pyspark.sql import SparkSession\n",
        "from pyspark.ml.feature import VectorAssembler\n",
        "from pyspark.ml.regression import LinearRegression\n",
        "\n",
        "# Start Spark session\n",
        "spark = SparkSession.builder.appName('SpotifyPopularityPrediction').getOrCreate()\n",
        "\n",
        "# Load data\n",
        "df = spark.read.csv('gs://bigdata_spotify/preprocessed_spotify.csv', header=True, inferSchema=True)\n",
        "\n",
        "# Selecting features and target variable\n",
        "feature_cols = ['danceability', 'energy', 'valence', 'tempo', 'acousticness']\n",
        "assembler = VectorAssembler(inputCols=feature_cols, outputCol='features')\n",
        "data = assembler.transform(df)\n",
        "\n",
        "# Select columns that we need\n",
        "final_data = data.select('features', 'popularity')\n",
        "\n",
        "# Split data into training and testing set\n",
        "train_data, test_data = final_data.randomSplit([0.8, 0.2])\n",
        "\n",
        "# Define the model\n",
        "lr = LinearRegression(featuresCol='features', labelCol='popularity')\n",
        "\n",
        "# Fit the model\n",
        "lr_model = lr.fit(train_data)\n",
        "\n",
        "# Predict on the test set\n",
        "predictions = lr_model.transform(test_data)\n",
        "\n",
        "# Show some predictions\n",
        "predictions.select('prediction', 'popularity').show()\n",
        "\n",
        "# Save predictions to Cloud Storage or BigQuery\n",
        "predictions.write.csv('gs://bigdata_spotify/output/predictions.csv')\n"
      ],
      "metadata": {
        "id": "8tATMg95UBPD"
      },
      "execution_count": null,
      "outputs": []
    }
  ]
}